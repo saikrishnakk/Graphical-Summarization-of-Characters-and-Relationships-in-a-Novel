{
 "cells": [
  {
   "cell_type": "code",
   "execution_count": 130,
   "metadata": {
    "collapsed": true
   },
   "outputs": [],
   "source": [
    "from nltk.corpus import wordnet as wn\n",
    "import nltk"
   ]
  },
  {
   "cell_type": "code",
   "execution_count": 131,
   "metadata": {
    "collapsed": true
   },
   "outputs": [],
   "source": [
    "HYPER = lambda s: s.hypernyms()\n",
    "IS_LIVING = 'living_thing.n.01'\n",
    "NOUN = ['NN']\n",
    "CHARACTER = 'CH'\n",
    "TEXT = \"The king then realized that if what the sweeper had said about him was not true what he had said about \\\n",
    "Dantila also could not be true. A person like Dantila could not have done what Gorambha had told him. The king also \\\n",
    "found that without Dantila the affairs of the state had suffered and civic administration had come to a standstill. \\\n",
    "The king immediately summoned the merchant to his palace and restored to him all the authority he had enjoyed before \\\n",
    "he fell out of king's favour.\""
   ]
  },
  {
   "cell_type": "code",
   "execution_count": 132,
   "metadata": {
    "collapsed": true
   },
   "outputs": [],
   "source": [
    "def getPosTags(text):\n",
    "    pos = []\n",
    "    sent = nltk.sent_tokenize(text)\n",
    "    for s in sent:\n",
    "        words = nltk.word_tokenize(s)\n",
    "        pos.append(nltk.pos_tag(words))\n",
    "    return pos"
   ]
  },
  {
   "cell_type": "code",
   "execution_count": 133,
   "metadata": {
    "collapsed": true
   },
   "outputs": [],
   "source": [
    "def findIndexPos(pos_text,pos_tag):\n",
    "    ret = []\n",
    "    for o_index,pos_sent in enumerate(pos_text):\n",
    "        for i_index,pos_word in enumerate(pos_sent):\n",
    "            if(pos_word[1] == pos_tag):\n",
    "                ret.append((o_index,i_index))\n",
    "    return ret  "
   ]
  },
  {
   "cell_type": "code",
   "execution_count": 134,
   "metadata": {
    "collapsed": true
   },
   "outputs": [],
   "source": [
    "def getPosWordByIndex(pos_text,index):\n",
    "    if(index == None):\n",
    "        return None\n",
    "    \n",
    "    if(index[0] < len(pos_text)):\n",
    "        if(index[1] < len(pos_text[index[0]])):\n",
    "            return pos_text[index[0]][index[1]]\n",
    "    return None"
   ]
  },
  {
   "cell_type": "code",
   "execution_count": 135,
   "metadata": {
    "collapsed": true
   },
   "outputs": [],
   "source": [
    "def getNextPosIndex(pos_text,index):\n",
    "    if(index[0] < len(pos_text)):\n",
    "        if(index[1] + 1 < len(pos_text[index[0]])):\n",
    "            return (index[0],index[1] + 1)\n",
    "    return None"
   ]
  },
  {
   "cell_type": "code",
   "execution_count": 136,
   "metadata": {
    "collapsed": true
   },
   "outputs": [],
   "source": [
    "def constructSynSetText(pos_word):\n",
    "    if(pos_word is None):\n",
    "        return None\n",
    "    if(pos_word[1] in NOUN):\n",
    "        return pos_word[0] + '.n.01'"
   ]
  },
  {
   "cell_type": "code",
   "execution_count": 137,
   "metadata": {
    "collapsed": true
   },
   "outputs": [],
   "source": [
    "def isLiving(pos_word):\n",
    "    if(pos_word is None):\n",
    "        return False\n",
    "    wn_pos = constructSynSetText(pos_word)\n",
    "    wn_lemma = wn.synset(wn_pos)\n",
    "    l_hyper = str(list(wn_lemma.closure(HYPER)))\n",
    "    if(IS_LIVING in l_hyper):\n",
    "        return True\n",
    "\n",
    "    return False"
   ]
  },
  {
   "cell_type": "code",
   "execution_count": 138,
   "metadata": {
    "collapsed": true
   },
   "outputs": [],
   "source": [
    "def markCharacter(pos_text,index,n_index):\n",
    "    word = getPosWordByIndex(pos_text,index)[0] + '_' + getPosWordByIndex(pos_text,n_index)[0]\n",
    "    pos_text[index[0]][index[1]] = (word,CHARACTER)\n",
    "    pos_text[n_index[0]].pop(n_index[1])\n",
    "    return pos_text"
   ]
  },
  {
   "cell_type": "code",
   "execution_count": 139,
   "metadata": {
    "collapsed": true
   },
   "outputs": [],
   "source": [
    "def returnCharacters(text):\n",
    "    animate_characters=[]\n",
    "    for a in text:\n",
    "        for i in a:\n",
    "            if i[1] == 'CH' or i[1] == 'NNP': \n",
    "                animate_characters.append(i[0])\n",
    "    return animate_characters"
   ]
  },
  {
   "cell_type": "code",
   "execution_count": 140,
   "metadata": {
    "collapsed": true
   },
   "outputs": [],
   "source": [
    "pos_text = getPosTags(TEXT)\n",
    "#pos_text"
   ]
  },
  {
   "cell_type": "code",
   "execution_count": 141,
   "metadata": {
    "collapsed": true,
    "scrolled": true
   },
   "outputs": [],
   "source": [
    "prp_index = findIndexPos(pos_text,'PRP$')\n",
    "for index in prp_index:\n",
    "    n_index = getNextPosIndex(pos_text,index)\n",
    "    pos_word = getPosWordByIndex(pos_text,n_index)\n",
    "    ret = isLiving(pos_word)\n",
    "    if(ret):\n",
    "        pos_text = markCharacter(pos_text,index,n_index)\n",
    "#pos_text"
   ]
  },
  {
   "cell_type": "code",
   "execution_count": 142,
   "metadata": {},
   "outputs": [
    {
     "name": "stdout",
     "output_type": "stream",
     "text": [
      "['Dantila', 'Dantila', 'Gorambha', 'Dantila']\n"
     ]
    }
   ],
   "source": [
    "animate_char_list = returnCharacters(pos_text)\n",
    "print(animate_char_list)"
   ]
  },
  {
   "cell_type": "code",
   "execution_count": null,
   "metadata": {
    "collapsed": true
   },
   "outputs": [],
   "source": []
  },
  {
   "cell_type": "code",
   "execution_count": null,
   "metadata": {
    "collapsed": true
   },
   "outputs": [],
   "source": []
  },
  {
   "cell_type": "code",
   "execution_count": null,
   "metadata": {
    "collapsed": true
   },
   "outputs": [],
   "source": []
  },
  {
   "cell_type": "code",
   "execution_count": null,
   "metadata": {
    "collapsed": true
   },
   "outputs": [],
   "source": []
  },
  {
   "cell_type": "code",
   "execution_count": null,
   "metadata": {
    "collapsed": true
   },
   "outputs": [],
   "source": []
  },
  {
   "cell_type": "code",
   "execution_count": 143,
   "metadata": {
    "collapsed": true
   },
   "outputs": [],
   "source": [
    "import spacy\n",
    "nlp = spacy.load('en_coref_sm')    #Small model : Takes 10 secs to load\n",
    "#nlp = spacy.load('en_coref_md')   #Medium model : Takes 2 mins to load\n",
    "def replacePronouns(sent):\n",
    "    temp = str(sent)\n",
    "    doc = nlp(sent)\n",
    "    #print(doc)\n",
    "    if(doc._.has_coref):\n",
    "        #print(doc._.coref_clusters[0].mentions)\n",
    "        for i in range(len(doc._.coref_clusters)):\n",
    "            main = doc._.coref_clusters[i].mentions[-1]._.coref_cluster.main\n",
    "            main = str(main)\n",
    "            for x in doc._.coref_clusters[i].mentions[1:]:\n",
    "                x=str(x)\n",
    "                temp = temp.replace(x,main)\n",
    "        print(temp)\n",
    "    else:\n",
    "        print(\"XXXXXXXXXXXXXXX\")\n",
    "    \n"
   ]
  },
  {
   "cell_type": "code",
   "execution_count": 144,
   "metadata": {
    "collapsed": true
   },
   "outputs": [],
   "source": [
    "def identifyPronouns(sent):\n",
    "    doc = nlp(sent)\n",
    "    #print(doc)\n",
    "    if(doc._.has_coref):\n",
    "        print(doc._.coref_clusters[0].mentions)\n",
    "        for i in range(len(doc._.coref_clusters)):\n",
    "            print('MAIN Word : ',doc._.coref_clusters[i].mentions[-1]._.coref_cluster.main)\n",
    "            print('Pronouns Used ( Which are supposed to be replaced) : ',[x for x in doc._.coref_clusters[i].mentions[1:]])\n",
    "    print()"
   ]
  },
  {
   "cell_type": "code",
   "execution_count": 145,
   "metadata": {},
   "outputs": [
    {
     "name": "stdout",
     "output_type": "stream",
     "text": [
      "[The king, him, he, The king, The king, his, him, he, he, king]\n",
      "MAIN Word :  The king\n",
      "Pronouns Used ( Which are supposed to be replaced) :  [him, he, The king, The king, his, him, he, he, king]\n",
      "MAIN Word :  Dantila\n",
      "Pronouns Used ( Which are supposed to be replaced) :  [Dantila]\n",
      "MAIN Word :  A person like Dantila\n",
      "Pronouns Used ( Which are supposed to be replaced) :  [him]\n",
      "\n"
     ]
    }
   ],
   "source": [
    "identifyPronouns(TEXT)\n",
    "#replacePronouns(\"John and John's friend worked on the project everyday.\")"
   ]
  },
  {
   "cell_type": "code",
   "execution_count": 148,
   "metadata": {
    "collapsed": true
   },
   "outputs": [],
   "source": [
    "def replace_pronouns_with_nouns(sent):\n",
    "    pronounMap = {}\n",
    "    doc = nlp(sent)\n",
    "    #print(doc)\n",
    "    if(doc._.has_coref):\n",
    "        #print(doc._.coref_clusters[0].mentions)\n",
    "        for i in range(len(doc._.coref_clusters)):\n",
    "            main = doc._.coref_clusters[i].mentions[-1]._.coref_cluster.main\n",
    "            main = str(main)\n",
    "            pro = []\n",
    "            for x in doc._.coref_clusters[i].mentions[1:] :\n",
    "                x=str(x)\n",
    "                pro.append(x)\n",
    "            pronounMap.update({main:pro})\n",
    "           \n",
    "    for key in pronounMap.keys():\n",
    "        temp = str(TEXT)\n",
    "        for val in pronounMap.get(key):\n",
    "            temp = temp.replace (val,key)\n",
    "        \n",
    "    return temp"
   ]
  },
  {
   "cell_type": "code",
   "execution_count": 149,
   "metadata": {},
   "outputs": [
    {
     "name": "stdout",
     "output_type": "stream",
     "text": [
      "[The king, him, he, The king, The king, his, him, he, he, king]\n",
      "The king then realized that if what the sweeper had said about A person like Dantila was not true what he had said about Dantila also could not be true. A person like Dantila could not have done what Gorambha had told A person like Dantila. The king also found that without Dantila the affairs of the state had suffered and civic administration had come to a standstill. The king immediately summoned the merchant to his palace and restored to A person like Dantila all the authority he had enjoyed before he fell out of king's favour.\n"
     ]
    }
   ],
   "source": [
    "newSentence = replace_pronouns_with_nouns(TEXT)\n",
    "print(newSentence)"
   ]
  },
  {
   "cell_type": "code",
   "execution_count": null,
   "metadata": {
    "collapsed": true
   },
   "outputs": [],
   "source": []
  },
  {
   "cell_type": "code",
   "execution_count": null,
   "metadata": {
    "collapsed": true
   },
   "outputs": [],
   "source": []
  },
  {
   "cell_type": "code",
   "execution_count": null,
   "metadata": {
    "collapsed": true
   },
   "outputs": [],
   "source": []
  },
  {
   "cell_type": "code",
   "execution_count": null,
   "metadata": {
    "collapsed": true
   },
   "outputs": [],
   "source": []
  },
  {
   "cell_type": "code",
   "execution_count": null,
   "metadata": {
    "collapsed": true
   },
   "outputs": [],
   "source": []
  },
  {
   "cell_type": "code",
   "execution_count": 167,
   "metadata": {
    "collapsed": true
   },
   "outputs": [],
   "source": [
    "from stanfordcorenlp import StanfordCoreNLP\n",
    "import pickle\n",
    "import json"
   ]
  },
  {
   "cell_type": "code",
   "execution_count": 168,
   "metadata": {
    "collapsed": true
   },
   "outputs": [],
   "source": [
    "#sentence = u\"The king then realized that if what Gorambha had said about the King was not true what Gorambha had said about Dantila also could not be true. A person like Dantila could not have done what Gorambha had told the king. The king also found that without Dantila the affairs of the state had suffered and civic administration had come to a standstill. The king immediately summoned Dantila to the king's palace and restored to Dantila all the authority Dantila had enjoyed before Dantila fell out of \\\n",
    "#king's favour.\"\n",
    "\n",
    "#sentence = \"John and John's friend worked on the project everyday.\"\n",
    "def relationship_Identifier(sentence):\n",
    "    nlp = StanfordCoreNLP(r'F:\\UIC\\SNLP\\StanfordNLP_Tools\\stanford-corenlp-full-2018-10-05')\n",
    "    output = nlp.annotate(sentence, properties={\"annotators\":\"tokenize,ssplit,pos,depparse,natlog,openie\",\n",
    "                                     \"outputFormat\": \"json\",\"openie.triple.strict\":\"true\",\"splitter.disable\" : \"true\"})\n",
    "\n",
    "    if (type(output) is str):\n",
    "        output = json.loads(output, strict=False)\n",
    "    #pickle.dump(output, open( \"save.p\", \"wb\" ))\n",
    "\n",
    "    result = [output[\"sentences\"][0][\"openie\"] for item in output]\n",
    "    #print(result)\n",
    "    for i in result:\n",
    "        for rel in i:\n",
    "            relationSent=rel['relation'],rel['subject'],rel['object']\n",
    "            print(relationSent)\n",
    "\n",
    "    nlp.close()"
   ]
  },
  {
   "cell_type": "code",
   "execution_count": 169,
   "metadata": {},
   "outputs": [
    {
     "name": "stdout",
     "output_type": "stream",
     "text": [
      "('had said about', 'sweeper', 'person like Dantila')\n",
      "('had said about', 'sweeper', 'person')\n",
      "('had said about', 'he', 'Dantila')\n",
      "('had come to', 'civic administration', 'standstill')\n",
      "('had come to', 'administration', 'standstill')\n",
      "('suffered without', 'affairs', 'Dantila')\n",
      "('summoned', 'king', 'merchant')\n",
      "('immediately summoned', 'king', 'merchant')\n",
      "('summoned merchant to', 'king', 'his palace')\n",
      "('immediately summoned merchant to', 'king', 'his palace')\n"
     ]
    }
   ],
   "source": [
    "sent = nltk.sent_tokenize(newSentence)\n",
    "for s in sent:\n",
    "    s = str(s)\n",
    "    relationship_Identifier(s)"
   ]
  },
  {
   "cell_type": "code",
   "execution_count": null,
   "metadata": {
    "collapsed": true
   },
   "outputs": [],
   "source": []
  }
 ],
 "metadata": {
  "kernelspec": {
   "display_name": "Python 3",
   "language": "python",
   "name": "python3"
  },
  "language_info": {
   "codemirror_mode": {
    "name": "ipython",
    "version": 3
   },
   "file_extension": ".py",
   "mimetype": "text/x-python",
   "name": "python",
   "nbconvert_exporter": "python",
   "pygments_lexer": "ipython3",
   "version": "3.6.3"
  }
 },
 "nbformat": 4,
 "nbformat_minor": 2
}
