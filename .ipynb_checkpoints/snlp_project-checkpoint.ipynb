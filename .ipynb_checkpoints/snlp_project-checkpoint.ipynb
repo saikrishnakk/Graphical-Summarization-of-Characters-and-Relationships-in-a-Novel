{
 "cells": [
  {
   "cell_type": "code",
   "execution_count": 1,
   "metadata": {},
   "outputs": [],
   "source": [
    "import spacy\n",
    "import pandas as pd\n",
    "from nltk.corpus import wordnet as wn\n",
    "import nltk\n",
    "import json\n",
    "from nltk.tag import StanfordNERTagger\n",
    "from pycorenlp import StanfordCoreNLP\n",
    "from autocorrect import spell"
   ]
  },
  {
   "cell_type": "code",
   "execution_count": 2,
   "metadata": {},
   "outputs": [
    {
     "name": "stdout",
     "output_type": "stream",
     "text": [
      "CPU times: user 11.6 s, sys: 2.86 s, total: 14.5 s\n",
      "Wall time: 16 s\n"
     ]
    }
   ],
   "source": [
    "nlp = %time spacy.load('en_coref_lg')\n",
    "core_nlp = StanfordCoreNLP('http://localhost:9002')\n",
    "core_nlp_pos_props = {\"annotators\":\"tokenize,ssplit,pos\",\"outputFormat\": \"json\"}\n",
    "core_nlp_ie_props = {\"annotators\":\"openie\",\\\n",
    "                     \"outputFormat\": \"json\",\"openie.triple.strict\":\"true\",\"splitter.disable\" : \"true\"}\n",
    "path_data_index = 'bedtime_stories_data/index.csv'\n",
    "ner_tagger = StanfordNERTagger('stanford-ner-2018-10-16/classifiers/english.all.3class.distsim.crf.ser.gz',\\\n",
    "                               'stanford-ner-2018-10-16/stanford-ner.jar',\\\n",
    "                              encoding='utf8')"
   ]
  },
  {
   "cell_type": "code",
   "execution_count": 3,
   "metadata": {
    "collapsed": true
   },
   "outputs": [],
   "source": [
    "def findPersons(story_text):\n",
    "    ret = set()\n",
    "    for sent in nltk.sent_tokenize(story_text):\n",
    "        tokens = nltk.tokenize.word_tokenize(sent)\n",
    "        tags = ner_tagger.tag(tokens)\n",
    "        for tag in tags:\n",
    "            if (tag[1]=='PERSON'): \n",
    "                ret.add(tag[0].lower())\n",
    "    return ret"
   ]
  },
  {
   "cell_type": "code",
   "execution_count": 4,
   "metadata": {
    "collapsed": true
   },
   "outputs": [],
   "source": [
    "def getCharacters(story_text):\n",
    "    ch = findPersons(story_text)\n",
    "    output = core_nlp.annotate(story_text, properties=core_nlp_pos_props)\n",
    "    for sent in output['sentences']:\n",
    "        for words in sent['tokens']:\n",
    "            pos_tag = words['pos']\n",
    "            word = spell(words['word'])\n",
    "            if(pos_tag == 'NN'):\n",
    "                if(isLiving(word)):\n",
    "                    ch.add(word.lower())\n",
    "    return ch"
   ]
  },
  {
   "cell_type": "code",
   "execution_count": 5,
   "metadata": {
    "collapsed": true
   },
   "outputs": [],
   "source": [
    "def return_story_text(path_story):\n",
    "    file = open(path_story, 'r')\n",
    "    text = file.read()\n",
    "    text = text.replace('\\n',' ')\n",
    "    file.close()\n",
    "    return text"
   ]
  },
  {
   "cell_type": "code",
   "execution_count": 6,
   "metadata": {
    "collapsed": true
   },
   "outputs": [],
   "source": [
    "def isLiving(word):\n",
    "    wn_word = word + '.n.01'\n",
    "    try:\n",
    "        wn_lemma = wn.synset(wn_word)\n",
    "    except:\n",
    "        return False\n",
    "    l_hyper = str(list(wn_lemma.closure(lambda s: s.hypernyms())))\n",
    "    if('person.n.01' in l_hyper or 'animal.n.01' in l_hyper):\n",
    "        return True\n",
    "    else:\n",
    "        return False "
   ]
  },
  {
   "cell_type": "code",
   "execution_count": 7,
   "metadata": {},
   "outputs": [],
   "source": [
    "def resolvePronouns(story_text):\n",
    "    doc = nlp(story_text)\n",
    "    return doc._.coref_resolved"
   ]
  },
  {
   "cell_type": "code",
   "execution_count": 8,
   "metadata": {
    "collapsed": true
   },
   "outputs": [],
   "source": [
    "def extractRelationships(story_text):\n",
    "    ret = []\n",
    "    sentences = nltk.sent_tokenize(story_text)\n",
    "    for sent in sentences:\n",
    "        output = core_nlp.annotate(sent,properties=core_nlp_ie_props)\n",
    "        result = [output[\"sentences\"][0][\"openie\"] for item in output]\n",
    "        for element in result:\n",
    "            for relation in element:\n",
    "                ret.append((relation['relation'],relation['subject'],relation['object']))\n",
    "    return ret"
   ]
  },
  {
   "cell_type": "code",
   "execution_count": 9,
   "metadata": {
    "collapsed": true
   },
   "outputs": [],
   "source": [
    "def findMoreCharacters(old_char_set,phrase):\n",
    "    words = nltk.word_tokenize(phrase)\n",
    "    if(len(words) == 1):\n",
    "        if(isLiving(words[0])):\n",
    "            old_char_set.add(words[0].lower())\n",
    "    return old_char_set"
   ]
  },
  {
   "cell_type": "code",
   "execution_count": 10,
   "metadata": {
    "collapsed": true
   },
   "outputs": [],
   "source": [
    "def updateCharacters(old_char_set, relations):\n",
    "    for rel in relations:\n",
    "        old_char_set = findMoreCharacters(old_char_set,rel[1])\n",
    "        old_char_set = findMoreCharacters(old_char_set,rel[2])\n",
    "    return old_char_set"
   ]
  },
  {
   "cell_type": "code",
   "execution_count": 11,
   "metadata": {},
   "outputs": [
    {
     "data": {
      "text/html": [
       "<div>\n",
       "<style scoped>\n",
       "    .dataframe tbody tr th:only-of-type {\n",
       "        vertical-align: middle;\n",
       "    }\n",
       "\n",
       "    .dataframe tbody tr th {\n",
       "        vertical-align: top;\n",
       "    }\n",
       "\n",
       "    .dataframe thead th {\n",
       "        text-align: right;\n",
       "    }\n",
       "</style>\n",
       "<table border=\"1\" class=\"dataframe\">\n",
       "  <thead>\n",
       "    <tr style=\"text-align: right;\">\n",
       "      <th></th>\n",
       "      <th>essay_id</th>\n",
       "      <th>topic</th>\n",
       "      <th>path</th>\n",
       "      <th>story_text</th>\n",
       "      <th>characters</th>\n",
       "      <th>pronouns_resolved_text</th>\n",
       "      <th>relations</th>\n",
       "    </tr>\n",
       "  </thead>\n",
       "  <tbody>\n",
       "    <tr>\n",
       "      <th>0</th>\n",
       "      <td>st_1</td>\n",
       "      <td>The Forest Princess</td>\n",
       "      <td>bedtime_stories_data/stories/st_1.txt</td>\n",
       "      <td>A long time ago, in a big beautiful forest the...</td>\n",
       "      <td>{rabbit, deer, grandpa, marina, skunk, princess}</td>\n",
       "      <td>A long time ago, in a big beautiful forest the...</td>\n",
       "      <td>[(lived, many animals, life), (lived, many ani...</td>\n",
       "    </tr>\n",
       "    <tr>\n",
       "      <th>1</th>\n",
       "      <td>st_2</td>\n",
       "      <td>Always Listen</td>\n",
       "      <td>bedtime_stories_data/stories/st_2.txt</td>\n",
       "      <td>Many moons ago there was a folk tale passed do...</td>\n",
       "      <td>{mother, boy, man, friend, joey, morgan, bo, d...</td>\n",
       "      <td>Many moons ago there was a folk tale passed do...</td>\n",
       "      <td>[(is about, story, Cho-Cho Man), (began with, ...</td>\n",
       "    </tr>\n",
       "    <tr>\n",
       "      <th>2</th>\n",
       "      <td>st_3</td>\n",
       "      <td>The Lonely Dinosaur</td>\n",
       "      <td>bedtime_stories_data/stories/st_3.txt</td>\n",
       "      <td>Many years ago dinosaurs were the largest crea...</td>\n",
       "      <td>{dinosaur}</td>\n",
       "      <td>Many years ago dinosaurs were the largest crea...</td>\n",
       "      <td>[(were creatures at_time, dinosaurs, years), (...</td>\n",
       "    </tr>\n",
       "    <tr>\n",
       "      <th>3</th>\n",
       "      <td>st_4</td>\n",
       "      <td>The Five Little Stars</td>\n",
       "      <td>bedtime_stories_data/stories/st_4.txt</td>\n",
       "      <td>She closed her eyes and made a wish. She wishe...</td>\n",
       "      <td>{andrew, boy, gabriel, lady, woman, javier, ja...</td>\n",
       "      <td>She closed She eyes and made a wish. She wishe...</td>\n",
       "      <td>[(closed, She, She eyes), (made, She, wish), (...</td>\n",
       "    </tr>\n",
       "    <tr>\n",
       "      <th>4</th>\n",
       "      <td>st_5</td>\n",
       "      <td>John Goes to the City</td>\n",
       "      <td>bedtime_stories_data/stories/st_5.txt</td>\n",
       "      <td>Once up on a time there was mischievous raccoo...</td>\n",
       "      <td>{john, policeman, man, jim}</td>\n",
       "      <td>Once up on a time there was mischievous raccoo...</td>\n",
       "      <td>[(named, mischievous raccoon, John), (named, r...</td>\n",
       "    </tr>\n",
       "  </tbody>\n",
       "</table>\n",
       "</div>"
      ],
      "text/plain": [
       "  essay_id                  topic                                   path  \\\n",
       "0     st_1    The Forest Princess  bedtime_stories_data/stories/st_1.txt   \n",
       "1     st_2          Always Listen  bedtime_stories_data/stories/st_2.txt   \n",
       "2     st_3    The Lonely Dinosaur  bedtime_stories_data/stories/st_3.txt   \n",
       "3     st_4  The Five Little Stars  bedtime_stories_data/stories/st_4.txt   \n",
       "4     st_5  John Goes to the City  bedtime_stories_data/stories/st_5.txt   \n",
       "\n",
       "                                          story_text  \\\n",
       "0  A long time ago, in a big beautiful forest the...   \n",
       "1  Many moons ago there was a folk tale passed do...   \n",
       "2  Many years ago dinosaurs were the largest crea...   \n",
       "3  She closed her eyes and made a wish. She wishe...   \n",
       "4  Once up on a time there was mischievous raccoo...   \n",
       "\n",
       "                                          characters  \\\n",
       "0   {rabbit, deer, grandpa, marina, skunk, princess}   \n",
       "1  {mother, boy, man, friend, joey, morgan, bo, d...   \n",
       "2                                         {dinosaur}   \n",
       "3  {andrew, boy, gabriel, lady, woman, javier, ja...   \n",
       "4                        {john, policeman, man, jim}   \n",
       "\n",
       "                              pronouns_resolved_text  \\\n",
       "0  A long time ago, in a big beautiful forest the...   \n",
       "1  Many moons ago there was a folk tale passed do...   \n",
       "2  Many years ago dinosaurs were the largest crea...   \n",
       "3  She closed She eyes and made a wish. She wishe...   \n",
       "4  Once up on a time there was mischievous raccoo...   \n",
       "\n",
       "                                           relations  \n",
       "0  [(lived, many animals, life), (lived, many ani...  \n",
       "1  [(is about, story, Cho-Cho Man), (began with, ...  \n",
       "2  [(were creatures at_time, dinosaurs, years), (...  \n",
       "3  [(closed, She, She eyes), (made, She, wish), (...  \n",
       "4  [(named, mischievous raccoon, John), (named, r...  "
      ]
     },
     "execution_count": 11,
     "metadata": {},
     "output_type": "execute_result"
    }
   ],
   "source": [
    "df = pd.read_csv(path_data_index)\n",
    "df['story_text'] = df.path.apply(return_story_text)\n",
    "df['characters'] = df.story_text.apply(getCharacters)\n",
    "df['pronouns_resolved_text'] = df.story_text.apply(resolvePronouns)\n",
    "df['relations'] = df.pronouns_resolved_text.apply(extractRelationships)\n",
    "df['characters'] = df.apply(lambda row: updateCharacters(row['characters'], row['relations']), axis=1)\n",
    "df.head()"
   ]
  }
 ],
 "metadata": {
  "kernelspec": {
   "display_name": "Python 3",
   "language": "python",
   "name": "python3"
  },
  "language_info": {
   "codemirror_mode": {
    "name": "ipython",
    "version": 3
   },
   "file_extension": ".py",
   "mimetype": "text/x-python",
   "name": "python",
   "nbconvert_exporter": "python",
   "pygments_lexer": "ipython3",
   "version": "3.6.3"
  }
 },
 "nbformat": 4,
 "nbformat_minor": 2
}
